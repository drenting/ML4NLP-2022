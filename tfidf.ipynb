{
 "cells": [
  {
   "cell_type": "code",
   "execution_count": null,
   "id": "8d0334b1-ef94-40e7-bfde-c36e30ce158e",
   "metadata": {},
   "outputs": [],
   "source": [
    "import nn_sentiment\n",
    "from nn_sentiment import prepare_data, train_test"
   ]
  },
  {
   "cell_type": "code",
   "execution_count": null,
   "id": "d8342cd8-0dc1-4753-8b95-33de0b1a5fd2",
   "metadata": {},
   "outputs": [],
   "source": [
    "# first transforming the csv data to arrays \n",
    "# training_targets are arrays, dont need the original labels anymore\n",
    "# test_labels are the original labels (negative, neutral, positive), dont need the arrays\n",
    "# third parameter is 'tfidf' so the word in tweet are represented as tfidf with svd\n",
    "\n",
    "training_data, training_targets, test_data, test_labels = prepare_data('airline_tweets_train.csv', \n",
    "                                                                        'airline_tweets_test.csv', \n",
    "                                                                        'tfidf', \n",
    "                                                                        None)"
   ]
  },
  {
   "cell_type": "code",
   "execution_count": null,
   "id": "944b89a7-f428-41d5-8779-119532b1aff0",
   "metadata": {
    "tags": []
   },
   "outputs": [],
   "source": [
    "# making the network, training and testing with the data from above\n",
    "# changing the number of epochs and the learning rate each time\n",
    "# number of hidden nodes is fixed here\n",
    "\n",
    "all_scores_1 = dict()\n",
    "for epoch_value in [1, 5, 10]:\n",
    "    for lr_value in [0.01, 0.05, 0.1, 0.2, 0.3, 0.4]:\n",
    "        print('learning rate is:', lr_value)\n",
    "        print('number of epochs is:', epoch_value)\n",
    "        cr = train_test(training_data,\n",
    "                training_targets,\n",
    "                test_data,\n",
    "                test_labels,\n",
    "                300,\n",
    "                150,\n",
    "                3,\n",
    "                lr_value,\n",
    "                epoch_value)\n",
    "        all_scores_1[str(epoch_value)+str(lr_value)] = cr"
   ]
  },
  {
   "cell_type": "code",
   "execution_count": null,
   "id": "37ef1096-bb7e-4402-b297-e4955064e8dd",
   "metadata": {
    "tags": []
   },
   "outputs": [],
   "source": [
    "# making the network, training and testing with the data from above\n",
    "# changing the number of hidden nodes and the learning rate each time\n",
    "# number of epochs is fixed\n",
    "\n",
    "all_scores_2 = dict()\n",
    "for hn_value in [25, 50, 100, 200, 250]:\n",
    "    for lr_value in [0.01, 0.05, 0.1, 0.2, 0.3, 0.4]:\n",
    "        print('number of hidden nodes is:', hn_value)\n",
    "        print('learning rate is:', lr_value)\n",
    "        cr = train_test(training_data,\n",
    "                training_targets,\n",
    "                test_data,\n",
    "                test_labels,\n",
    "                300,\n",
    "                hn_value,\n",
    "                3,\n",
    "                lr_value,\n",
    "                10)\n",
    "        all_scores_2[str(hn_value)+str(lr_value)] = cr"
   ]
  },
  {
   "cell_type": "code",
   "execution_count": null,
   "id": "2469d944-72a7-413e-921f-1f526ce0c9eb",
   "metadata": {
    "tags": []
   },
   "outputs": [],
   "source": [
    "# lastly, printing all the performance scores from the best performing network; the one with 25 nodes and lr of 0.05\n",
    "print(all_scores_2['250.05'])"
   ]
  },
  {
   "cell_type": "code",
   "execution_count": null,
   "id": "a90979d9-2395-4579-bc2b-ed1e16149b70",
   "metadata": {},
   "outputs": [],
   "source": []
  }
 ],
 "metadata": {
  "kernelspec": {
   "display_name": "Python 3",
   "language": "python",
   "name": "python3"
  },
  "language_info": {
   "codemirror_mode": {
    "name": "ipython",
    "version": 3
   },
   "file_extension": ".py",
   "mimetype": "text/x-python",
   "name": "python",
   "nbconvert_exporter": "python",
   "pygments_lexer": "ipython3",
   "version": "3.8.8"
  }
 },
 "nbformat": 4,
 "nbformat_minor": 5
}

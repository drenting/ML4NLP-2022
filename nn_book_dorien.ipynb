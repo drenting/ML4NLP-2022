{
 "cells": [
  {
   "cell_type": "code",
   "execution_count": 1,
   "id": "c6a969fe-fa76-4814-baf7-959aaa9eb6db",
   "metadata": {},
   "outputs": [],
   "source": [
    "import numpy\n",
    "import scipy.special\n",
    "import scipy.ndimage\n",
    "import matplotlib.pyplot\n",
    "%matplotlib inline\n",
    "import imageio\n",
    "import glob"
   ]
  },
  {
   "cell_type": "markdown",
   "id": "d2cf3927-4efc-43ce-b81a-f72ae7af7e16",
   "metadata": {},
   "source": [
    "## Defining functions"
   ]
  },
  {
   "cell_type": "code",
   "execution_count": 2,
   "id": "64dbe5a6-2c43-4cf1-83f2-634239ff81e7",
   "metadata": {},
   "outputs": [],
   "source": [
    "# neural network class\n",
    "class neuralNetwork:\n",
    "    \n",
    "    #initialization function to create network\n",
    "    def __init__(self, inputnodes, hiddennodes, outputnodes, learningrate): #these are the things we need to initialize a NN\n",
    "        \"\"\"\n",
    "        Applies the parameters to the neural network object, network has one hidden layer.\n",
    "        \n",
    "        :param inputnodes: number of nodes in input layer\n",
    "        :param hiddennodes: number of nodes in hidden layer\n",
    "        :param outputnodes: number of nodes in output layer\n",
    "        :param learningrate: learning rate of gradient descent        \n",
    "        :type inputnodes: int\n",
    "        :type hiddennodes: int\n",
    "        :type outputnodes: int\n",
    "        :type learningrate: int\n",
    "        \n",
    "        returns: None\n",
    "        \"\"\"\n",
    "        #assigning these variables to the object: \n",
    "        self.inodes = inputnodes \n",
    "        self.hnodes = hiddennodes\n",
    "        self.onodes = outputnodes\n",
    "        self.lr = learningrate\n",
    "        \n",
    "        #matrix of random weigths (w) that link input layer (i) to hidden layer (h)\n",
    "        self.wih = numpy.random.normal(0.0, pow(self.inodes, -0.5), (self.hnodes, self.inodes))\n",
    "        \n",
    "        #matrix of random weights (w) that link hidden layer (h) to output later (o)\n",
    "        self.who = numpy.random.normal(0.0, pow(self.hnodes, -0.5), (self.onodes, self.hnodes))\n",
    "        \n",
    "        # defining the activation function, in this case the sigmoid (called expit here)\n",
    "        self.activation_function = lambda x: scipy.special.expit(x)  \n",
    "        \n",
    "        #defining the reverse activation function for backwards query, called logit\n",
    "        self.inverse_activation_function = lambda x: scipy.special.logit(x)\n",
    "        \n",
    "        pass\n",
    "    \n",
    "    # training phase\n",
    "    def train(self, inputs_list, targets_list):\n",
    "        \"\"\"\n",
    "        Coverts input to output through the network and backpropagates the error to update weights, thereby training the NN\n",
    "        \n",
    "        :param inputs_list: training features\n",
    "        :param targets_list: training labels or target output\n",
    "        :type inputs_list: list\n",
    "        :type targets_list: list\n",
    "        \n",
    "        returns: None\n",
    "        \"\"\"\n",
    "        \n",
    "        ###part 1: going from input to output:\n",
    "        \n",
    "        # convert inputs list to 2d array (matrix)\n",
    "        inputs = numpy.array(inputs_list, ndmin=2).T\n",
    "        targets = numpy.array(targets_list, ndmin=2).T\n",
    "        \n",
    "        # calculate signals into hidden layer by applying weights to inputlayer\n",
    "        hidden_inputs = numpy.dot(self.wih, inputs)\n",
    "        # calculate the signals emerging from hidden layer by applying activation function\n",
    "        hidden_outputs = self.activation_function(hidden_inputs)\n",
    "        \n",
    "        # calculate signals into final output layer by applying weights to output from hidden layer\n",
    "        final_inputs = numpy.dot(self.who, hidden_outputs)\n",
    "        # calculate the signals emerging from final output layer by applying activation function\n",
    "        final_outputs = self.activation_function(final_inputs)\n",
    "        \n",
    "        ###part 2: backpropagating error\n",
    "        \n",
    "        # output layer error is the target output minus the actual output\n",
    "        #note: output_errors is still a matrix, and thus contains all the errors for every datapoint separately. targets and final_outputs are also arrays\n",
    "        output_errors = targets - final_outputs\n",
    "        \n",
    "        # hidden layer error is the output_errors, split by weights, recombined at hidden nodes\n",
    "        # so, (transposed) hidden-output weights matrix is multiplied with the output error matrix\n",
    "        hidden_errors = numpy.dot(self.who.T, output_errors) \n",
    "        \n",
    "        # update the weights for the links between the hidden and output layers\n",
    "        self.who += self.lr * numpy.dot((output_errors * final_outputs * (1.0 - final_outputs)), numpy.transpose(hidden_outputs))\n",
    "        \n",
    "        # update the weights for the links between the input and hidden layers\n",
    "        self.wih += self.lr * numpy.dot((hidden_errors * hidden_outputs * (1.0 - hidden_outputs)), numpy.transpose(inputs))\n",
    "        pass\n",
    "    \n",
    "    # query fase\n",
    "    def query(self, inputs_list):\n",
    "        \"\"\"\n",
    "        Gives predictions based on input. \n",
    "        \n",
    "        inputs_list: list \n",
    "        returns: array with output\n",
    "        \"\"\"\n",
    "        # convert inputs_list to matrix, and transposes so input is a column not a row\n",
    "        inputs = numpy.array(inputs_list, ndmin=2).T\n",
    "        \n",
    "        # calculate signals into hidden layer: use matrix multiplication of weights and input\n",
    "        hidden_inputs = numpy.dot(self.wih, inputs)\n",
    "        # apply activation (sigmoid) to calculate what comes out of hidden layer\n",
    "        hidden_outputs = self.activation_function(hidden_inputs)\n",
    "        \n",
    "        # calculate signals into final output layer: matrix multiplication of weights and input (in this case output from previous layer)\n",
    "        final_inputs = numpy.dot(self.who, hidden_outputs)\n",
    "        # apply activation (sigmoid) to calculate what comes out of output layer\n",
    "        final_outputs = self.activation_function(final_inputs)\n",
    "        \n",
    "        \n",
    "        return final_outputs \n",
    "    \n",
    "        \n",
    "    # backquery the neural network\n",
    "    # target are the values at the right of the network, albeit used as input\n",
    "    # hidden_output is the signal to the right of the middle nodes\n",
    "\n",
    "    def backquery(self, targets_list):\n",
    "        \"\"\"\n",
    "        Feed the network target output and get an image back, by going backwards throught the network. \n",
    "        \n",
    "        :param targets_list: list of target outputs\n",
    "        :type targets_list: list\n",
    "        \n",
    "        returns: input (image)\n",
    "        \"\"\"\n",
    "        # transpose the targets list to a vertical array\n",
    "        # same as in query()\n",
    "        final_outputs = numpy.array(targets_list, ndmin=2).T\n",
    "        \n",
    "        # we are going backwards, so first the reverse activation function is applied\n",
    "        # calculate the signal into the final output layer using the inverse act funct (see __init__())\n",
    "        final_inputs = self.inverse_activation_function(final_outputs)\n",
    "        \n",
    "        # calculate the signal out of the hidden layer, weights matrix is transposed\n",
    "        hidden_outputs = numpy.dot(self.who.T, final_inputs)\n",
    "        # scale them back to 0.01 to .99\n",
    "        hidden_outputs -= numpy.min(hidden_outputs)\n",
    "        hidden_outputs /= numpy.max(hidden_outputs)\n",
    "        hidden_outputs *= 0.98\n",
    "        hidden_outputs += 0.01\n",
    "        \n",
    "        # calculate the signal into the hidden layer\n",
    "        hidden_inputs = self.inverse_activation_function(hidden_outputs)\n",
    "        \n",
    "        # calculate the signal out of the input layer, weights matrix is transposed\n",
    "        inputs = numpy.dot(self.wih.T, hidden_inputs)\n",
    "        # scale them back to 0.01 to .99\n",
    "        inputs -= numpy.min(inputs)\n",
    "        inputs /= numpy.max(inputs)\n",
    "        inputs *= 0.98\n",
    "        inputs += 0.01\n",
    "        \n",
    "        return inputs\n",
    "    "
   ]
  },
  {
   "cell_type": "markdown",
   "id": "e99791d8-c8bf-4a60-a966-16020ee117f1",
   "metadata": {},
   "source": [
    "## Making an NN"
   ]
  },
  {
   "cell_type": "code",
   "execution_count": 82,
   "id": "0155e6b4-8110-4e9e-93e8-919aeba71b3f",
   "metadata": {},
   "outputs": [],
   "source": [
    "# initializing\n",
    "# making a nn with specific number of nodes\n",
    "\n",
    "input_n = 784 #28*28 pixels so 784 inputs\n",
    "hidden_n = 350\n",
    "output_n = 10 #we have 10 target outputs so 10 output nodes\n",
    "l_r = 0.1"
   ]
  },
  {
   "cell_type": "code",
   "execution_count": 83,
   "id": "c0fda626-8881-4fd0-b7fd-8483ce7cafc7",
   "metadata": {},
   "outputs": [],
   "source": [
    "n = neuralNetwork(input_n, hidden_n, output_n, l_r)"
   ]
  },
  {
   "cell_type": "markdown",
   "id": "fcf7bd67-0548-4fcf-97d0-54e2d2dc6b12",
   "metadata": {},
   "source": [
    "## Training the NN"
   ]
  },
  {
   "cell_type": "code",
   "execution_count": 5,
   "id": "5756eca4-8936-4329-9ea8-8009e2071798",
   "metadata": {},
   "outputs": [],
   "source": [
    "# load the mnist training data CSV file into a list\n",
    "training_data_file = open(\"mnist_train.csv\", 'r')\n",
    "training_data_list = training_data_file.readlines()\n",
    "training_data_file.close()"
   ]
  },
  {
   "cell_type": "code",
   "execution_count": 33,
   "id": "18f1c635-4438-4a38-977e-5d8da38183e9",
   "metadata": {},
   "outputs": [
    {
     "data": {
      "text/plain": [
       "<matplotlib.image.AxesImage at 0x1f00869e4c0>"
      ]
     },
     "execution_count": 33,
     "metadata": {},
     "output_type": "execute_result"
    },
    {
     "data": {
      "image/png": "[encoded data removed]",
      "text/plain": [
       "<Figure size 432x288 with 1 Axes>"
      ]
     },
     "metadata": {
      "needs_background": "light"
     },
     "output_type": "display_data"
    }
   ],
   "source": [
    "#plotting one of the datapoints, just to see\n",
    "all_values = training_data_list[76].split(',')\n",
    "image_array = numpy.asfarray(all_values[1:]).reshape((28,28))\n",
    "matplotlib.pyplot.imshow(image_array, cmap='Greys', interpolation='None')"
   ]
  },
  {
   "cell_type": "code",
   "execution_count": 7,
   "id": "a2f67738-ac98-4a6f-96e1-8a98e6643723",
   "metadata": {
    "tags": []
   },
   "outputs": [],
   "source": [
    "#transforming input to inspect how it looks\n",
    "\n",
    "# inputs_list = (numpy.asfarray(all_values[1:]) / 255.0 * 0.99) + 0.01\n",
    "# inputs = numpy.array(inputs_list, ndmin=2).T\n",
    "# print(len(inputs))\n",
    "# print(inputs)"
   ]
  },
  {
   "cell_type": "code",
   "execution_count": 8,
   "id": "0fa14120-f579-46aa-bd51-fff0b23df557",
   "metadata": {},
   "outputs": [],
   "source": [
    "# transforming output to inspect how it looks\n",
    "\n",
    "# # make array of right size (output_nodes) and fill with 0.1\n",
    "# targets = numpy.zeros(10) + 0.01\n",
    "# # first item in all_values is the target label for this record and should be 0.9\n",
    "# targets[int(all_values[0])] = 0.99\n",
    "# print(targets)"
   ]
  },
  {
   "cell_type": "code",
   "execution_count": 84,
   "id": "e07b56ae-b597-41c5-a859-88a5c1769ebf",
   "metadata": {},
   "outputs": [],
   "source": [
    "# train the neural network (including rotated input)\n",
    "\n",
    "# epochs is the number of times the training data set is used for training\n",
    "epochs = 5\n",
    "\n",
    "for e in range(epochs):\n",
    "    # go through all records in the training data set\n",
    "    for record in training_data_list:\n",
    "        # split each record on ','. all_values is list\n",
    "        all_values = record.split(',')\n",
    "        \n",
    "        #input\n",
    "        # scale and shift the inputs to be between 0.01 and 1 and is now an 1d array. leave out first item\n",
    "        inputs = (numpy.asfarray(all_values[1:]) / 255.0 * 0.99) + 0.01\n",
    "        \n",
    "        # output\n",
    "        # make array of right size (output_nodes) and fill with 0.01\n",
    "        targets = numpy.zeros(output_n) + 0.01\n",
    "        # first item in all_values is the target label for this record and should be 0.99\n",
    "        targets[int(all_values[0])] = 0.99\n",
    "        \n",
    "        #train the network\n",
    "        n.train(inputs, targets)\n",
    "        \n",
    "        \n",
    "#         ## create rotated inputs\n",
    "#         # rotated anticlockwise by x degrees\n",
    "#         #make input into 28x28, rotate it\n",
    "#         inputs_plusx_img = scipy.ndimage.interpolation.rotate(inputs.reshape(28,28), 10, cval=0.01, order=1, reshape=False)\n",
    "#         #train with rotated input, input transformed back into 784 array\n",
    "#         n.train(inputs_plusx_img.reshape(784), targets)\n",
    "#         # rotated clockwise by x degrees\n",
    "#         inputs_minusx_img = scipy.ndimage.interpolation.rotate(inputs.reshape(28,28), -10, cval=0.01, order=1, reshape=False)\n",
    "#         #train with rotated input\n",
    "#         n.train(inputs_minusx_img.reshape(784), targets)\n",
    "        pass\n",
    "    pass"
   ]
  },
  {
   "cell_type": "markdown",
   "id": "5f374254-d170-4f29-a13f-47b56e0b36b8",
   "metadata": {},
   "source": [
    "## Testing the network"
   ]
  },
  {
   "cell_type": "code",
   "execution_count": 10,
   "id": "7b404339-bd4c-49b9-b757-9a2fad0d5902",
   "metadata": {},
   "outputs": [],
   "source": [
    "# load the mnist test data CSV file into a list\n",
    "test_data_file = open(\"mnist_test.csv\", 'r')\n",
    "test_data_list = test_data_file.readlines()\n",
    "test_data_file.close()"
   ]
  },
  {
   "cell_type": "code",
   "execution_count": 85,
   "id": "e316faa8-4644-4dba-ba6e-99f8ff430e33",
   "metadata": {},
   "outputs": [],
   "source": [
    "# test the neural network\n",
    "\n",
    "# scorecard for how well the network performs, initially empty\n",
    "scorecard = []\n",
    "\n",
    "# to be able to inspect later or save to computer i am collecting everything\n",
    "all_inputs = []\n",
    "all_outputs = []\n",
    "all_predictions = []\n",
    "all_gold_labels = []\n",
    "\n",
    "# go through all the records in the test data set\n",
    "for record in test_data_list:\n",
    "    # split record on ',' \n",
    "    all_values = record.split(',')\n",
    "    # correct answer is first value\n",
    "    correct_label = int(all_values[0])\n",
    "    all_gold_labels.append(correct_label)\n",
    "    # scale and shift the inputs\n",
    "    inputs = (numpy.asfarray(all_values[1:]) / 255.0 * 0.99) + 0.01\n",
    "    all_inputs.append(inputs) \n",
    "    # query the network\n",
    "    outputs = n.query(inputs)\n",
    "    all_outputs.append(outputs)\n",
    "    # the index of the highest value corresponds to the label\n",
    "    label = numpy.argmax(outputs)\n",
    "    all_predictions.append(label)\n",
    "    # append correct or incorrect to list\n",
    "    if (label == correct_label):\n",
    "        # network's answer matches correct answer, add 1 to scorecard\n",
    "        scorecard.append(1)\n",
    "    else:\n",
    "        # network's answer doesn't match correct answer, add 0 to scorecard\n",
    "        scorecard.append(0)\n",
    "        pass\n",
    "    \n",
    "    pass"
   ]
  },
  {
   "cell_type": "code",
   "execution_count": 86,
   "id": "f795f80c-38be-420c-ac46-d600ff87e60c",
   "metadata": {
    "tags": []
   },
   "outputs": [],
   "source": [
    "#print(scorecard)"
   ]
  },
  {
   "cell_type": "code",
   "execution_count": 87,
   "id": "a5b20492-f6b5-4897-9f3b-3c4ebf672718",
   "metadata": {},
   "outputs": [
    {
     "name": "stdout",
     "output_type": "stream",
     "text": [
      "performance =  0.9747\n"
     ]
    }
   ],
   "source": [
    "# calculate the performance score, the fraction of correct answers\n",
    "scorecard_array = numpy.asarray(scorecard)\n",
    "print (\"performance = \", scorecard_array.sum() / scorecard_array.size)"
   ]
  },
  {
   "cell_type": "code",
   "execution_count": 14,
   "id": "da5b23b7-f24c-4cc8-bf3a-3005461c7152",
   "metadata": {},
   "outputs": [],
   "source": [
    "# #plotting the incorrect predictions to see (this was from the mini sample data)\n",
    "\n",
    "# print('the network predicted this image to be ', all_predictions[7])\n",
    "# print('the correct answer is ', all_gold_labels[7])\n",
    "# all_values = test_data_list[7].split(',')\n",
    "# image_array = numpy.asfarray(all_values[1:]).reshape((28,28))\n",
    "# matplotlib.pyplot.imshow(image_array, cmap='Greys', interpolation='None')\n",
    "# print(all_outputs[7]) #seeing which other numbers were also high"
   ]
  },
  {
   "cell_type": "code",
   "execution_count": 15,
   "id": "91b940c1-0c81-491b-8a83-cb30cafa7e28",
   "metadata": {},
   "outputs": [],
   "source": [
    "# print('the network predicted this image to be ', all_predictions[8])\n",
    "# print('the correct answer is ', all_gold_labels[8])\n",
    "# all_values = test_data_list[8].split(',')\n",
    "# image_array = numpy.asfarray(all_values[1:]).reshape((28,28))\n",
    "# matplotlib.pyplot.imshow(image_array, cmap='Greys', interpolation='None')\n",
    "# print(all_outputs[8])"
   ]
  },
  {
   "cell_type": "code",
   "execution_count": 16,
   "id": "1b98ab34-bce2-48f3-94b0-890bf5fa3899",
   "metadata": {},
   "outputs": [],
   "source": [
    "# print('the network predicted this image to be ', all_predictions[9])\n",
    "# print('the correct answer is ', all_gold_labels[9])\n",
    "# all_values = test_data_list[9].split(',')\n",
    "# image_array = numpy.asfarray(all_values[1:]).reshape((28,28))\n",
    "# matplotlib.pyplot.imshow(image_array, cmap='Greys', interpolation='None')\n",
    "# print(all_outputs[9])"
   ]
  },
  {
   "cell_type": "markdown",
   "id": "cb3c091e-5236-4da0-9499-01d459a0664f",
   "metadata": {},
   "source": [
    "## Using my handwriting"
   ]
  },
  {
   "cell_type": "code",
   "execution_count": 96,
   "id": "6a276065-6085-4dbf-87ee-57d8bfbbfd37",
   "metadata": {},
   "outputs": [
    {
     "name": "stdout",
     "output_type": "stream",
     "text": [
      "loading ...  my_own_images_thicker\\IMG_00.png\n",
      "0.36685812\n",
      "0.9931865\n",
      "loading ...  my_own_images_thicker\\IMG_01.png\n",
      "0.35814226\n",
      "1.0\n",
      "loading ...  my_own_images_thicker\\IMG_02.png\n",
      "0.35820824\n",
      "0.99955744\n",
      "loading ...  my_own_images_thicker\\IMG_03.png\n",
      "0.35820824\n",
      "1.0\n",
      "loading ...  my_own_images_thicker\\IMG_04.png\n",
      "0.3714587\n",
      "1.0\n",
      "loading ...  my_own_images_thicker\\IMG_05.png\n",
      "0.34744635\n",
      "1.0\n",
      "loading ...  my_own_images_thicker\\IMG_06.png\n",
      "0.35288942\n",
      "0.9979541\n",
      "loading ...  my_own_images_thicker\\IMG_07.png\n",
      "0.37074047\n",
      "0.9947899\n",
      "loading ...  my_own_images_thicker\\IMG_08.png\n",
      "0.3556536\n",
      "0.99611765\n",
      "loading ...  my_own_images_thicker\\IMG_09.png\n",
      "0.3579326\n",
      "1.0\n"
     ]
    }
   ],
   "source": [
    "# own image test data set\n",
    "my_own_dataset = []\n",
    "\n",
    "# load the png image data as test data set\n",
    "for image_file_name in glob.glob('my_own_images_thicker/IMG_0?.png'):\n",
    "    # use the filename to set the correct label\n",
    "    label = int(image_file_name[-5:-4])\n",
    "\n",
    "    # load image data from png files into an array\n",
    "    print (\"loading ... \", image_file_name)\n",
    "    img_array = imageio.imread(image_file_name, as_gray=True)\n",
    "    \n",
    "    # reshape from 28x28 to list of 784 values, invert values\n",
    "    img_data  = 255.0 - img_array.reshape(784)\n",
    "    \n",
    "    # then scale data to range from 0.01 to 1.0\n",
    "    img_data = (img_data / 255.0 * 0.99) + 0.01\n",
    "    print(numpy.min(img_data))\n",
    "    print(numpy.max(img_data))\n",
    "\n",
    "    # append label and image data  to test data set\n",
    "    record = numpy.append(label,img_data)\n",
    "    my_own_dataset.append(record)\n",
    "    \n",
    "    pass"
   ]
  },
  {
   "cell_type": "code",
   "execution_count": 98,
   "id": "cd03d9aa-b14a-4339-8417-9b95098bb8d9",
   "metadata": {},
   "outputs": [
    {
     "name": "stdout",
     "output_type": "stream",
     "text": [
      "image is  0.0\n",
      "network says  9\n",
      "no match!\n",
      "image is  1.0\n",
      "network says  8\n",
      "no match!\n",
      "image is  2.0\n",
      "network says  8\n",
      "no match!\n",
      "image is  3.0\n",
      "network says  8\n",
      "no match!\n",
      "image is  4.0\n",
      "network says  8\n",
      "no match!\n",
      "image is  5.0\n",
      "network says  8\n",
      "no match!\n",
      "image is  6.0\n",
      "network says  8\n",
      "no match!\n",
      "image is  7.0\n",
      "network says  8\n",
      "no match!\n",
      "image is  8.0\n",
      "network says  8\n",
      "match!\n",
      "image is  9.0\n",
      "network says  8\n",
      "no match!\n"
     ]
    }
   ],
   "source": [
    "# test the neural network with my own images\n",
    "\n",
    "# record to test\n",
    "for item in [0, 1, 2, 3, 4, 5, 6, 7, 8, 9]:\n",
    "    \n",
    "\n",
    "    # plot image\n",
    "    # matplotlib.pyplot.imshow(my_own_dataset[item][1:].reshape(28,28), cmap='Greys', interpolation='None')\n",
    "\n",
    "    # correct answer is first value\n",
    "    correct_label = my_own_dataset[item][0]\n",
    "    # data is remaining values\n",
    "    inputs = my_own_dataset[item][1:]\n",
    "\n",
    "    # query the network\n",
    "    outputs = n.query(inputs)\n",
    "    # print (outputs)\n",
    "\n",
    "    # the index of the highest value corresponds to the label\n",
    "    label = numpy.argmax(outputs)\n",
    "    print(\"image is \", correct_label)\n",
    "    print(\"network says \", label)\n",
    "    if (label == correct_label):\n",
    "        print (\"match!\")\n",
    "    else:\n",
    "        print (\"no match!\")\n",
    "        pass"
   ]
  },
  {
   "cell_type": "markdown",
   "id": "464f1d5d-513b-4f0d-9e67-9f8fa4cf8b9f",
   "metadata": {},
   "source": [
    "## Backwards query"
   ]
  },
  {
   "cell_type": "code",
   "execution_count": 109,
   "id": "1774abb8-8b51-49d4-b682-9384b3e38940",
   "metadata": {},
   "outputs": [
    {
     "name": "stdout",
     "output_type": "stream",
     "text": [
      "[0.01 0.01 0.01 0.01 0.01 0.99 0.01 0.01 0.01 0.01]\n"
     ]
    },
    {
     "data": {
      "text/plain": [
       "<matplotlib.image.AxesImage at 0x1f008c94a60>"
      ]
     },
     "execution_count": 109,
     "metadata": {},
     "output_type": "execute_result"
    },
    {
     "data": {
      "image/png": "[encoded data removed]",
      "text/plain": [
       "<Figure size 432x288 with 1 Axes>"
      ]
     },
     "metadata": {
      "needs_background": "light"
     },
     "output_type": "display_data"
    }
   ],
   "source": [
    "# run the network backwards, given a label, see what image it produces\n",
    "\n",
    "# label to test\n",
    "label = 5\n",
    "\n",
    "# create array with length 10 and fill with 0.01\n",
    "targets = numpy.zeros(output_n) + 0.01\n",
    "# label we defined is index for target to make 0.99\n",
    "targets[label] = 0.99\n",
    "\n",
    "print(targets)\n",
    "\n",
    "# query nn backwards\n",
    "image_data = n.backquery(targets)\n",
    "\n",
    "# plot image data\n",
    "matplotlib.pyplot.imshow(image_data.reshape(28,28), cmap='Greys', interpolation='None')"
   ]
  },
  {
   "cell_type": "code",
   "execution_count": null,
   "id": "15cbd3bf-03c1-467c-b3bc-67e0c19646a1",
   "metadata": {},
   "outputs": [],
   "source": []
  }
 ],
 "metadata": {
  "kernelspec": {
   "display_name": "Python 3",
   "language": "python",
   "name": "python3"
  },
  "language_info": {
   "codemirror_mode": {
    "name": "ipython",
    "version": 3
   },
   "file_extension": ".py",
   "mimetype": "text/x-python",
   "name": "python",
   "nbconvert_exporter": "python",
   "pygments_lexer": "ipython3",
   "version": "3.8.8"
  }
 },
 "nbformat": 4,
 "nbformat_minor": 5
}

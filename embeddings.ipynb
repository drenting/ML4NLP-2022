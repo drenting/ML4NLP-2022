{
 "cells": [
  {
   "cell_type": "code",
   "execution_count": null,
   "id": "3e460f52-6075-420c-8a01-550db4283972",
   "metadata": {},
   "outputs": [],
   "source": [
    "import nn_sentiment\n",
    "from nn_sentiment import prepare_data, train_test"
   ]
  },
  {
   "cell_type": "code",
   "execution_count": null,
   "id": "09394ca4-b369-454d-b558-453366c48ce7",
   "metadata": {
    "tags": []
   },
   "outputs": [],
   "source": [
    "# first transforming the csv data to arrays \n",
    "# training_targets are arrays, dont need the original labels anymore\n",
    "# test_labels are the original labels (negative, neutral, positive), dont need the arrays\n",
    "# third parameter is set to embeddings so the average of the embeddings of the words in tweet is how the data is represented\n",
    "\n",
    "training_data, training_targets, test_data, test_labels = prepare_data('airline_tweets_train.csv', \n",
    "                                                                        'airline_tweets_test.csv', \n",
    "                                                                        'embeddings', \n",
    "                                                                        '../ma-ml4nlp-labs-main/models/GoogleNews-vectors-negative300.bin.gz')"
   ]
  },
  {
   "cell_type": "code",
   "execution_count": null,
   "id": "26f047ad-ebc8-4ab1-837c-1b21bbf88497",
   "metadata": {
    "tags": []
   },
   "outputs": [],
   "source": [
    "# making the network, training and testing with the data from above\n",
    "# changing the number of epochs and the learning rate each time\n",
    "# number of hidden nodes is fixed here\n",
    "\n",
    "all_scores_1 = dict()\n",
    "for epoch_value in [1, 5, 10]:\n",
    "    for lr_value in [0.01, 0.05, 0.1, 0.2, 0.3, 0.4]:\n",
    "        print('learning rate is:', lr_value)\n",
    "        print('number of epochs is:', epoch_value)\n",
    "        cr = train_test(training_data,\n",
    "                training_targets,\n",
    "                test_data,\n",
    "                test_labels,\n",
    "                300,\n",
    "                150,\n",
    "                3,\n",
    "                lr_value,\n",
    "                epoch_value)\n",
    "        all_scores_1[str(epoch_value)+str(lr_value)] = cr"
   ]
  },
  {
   "cell_type": "code",
   "execution_count": null,
   "id": "b26e7e7d-fed8-4bc7-965e-e42ad171c19f",
   "metadata": {
    "tags": []
   },
   "outputs": [],
   "source": [
    "# making the network, training and testing with the data from above\n",
    "# changing the number of hidden nodes and the learning rate each time\n",
    "# number of epochs is fixed\n",
    "\n",
    "all_scores_2 = dict()\n",
    "for hn_value in [25, 50, 100, 200, 250]:\n",
    "    for lr_value in [0.01, 0.05, 0.1, 0.2, 0.3, 0.4]:\n",
    "        print('number of hidden nodes is:', hn_value)\n",
    "        print('learning rate is:', lr_value)\n",
    "        cr = train_test(training_data,\n",
    "                training_targets,\n",
    "                test_data,\n",
    "                test_labels,\n",
    "                300,\n",
    "                hn_value,\n",
    "                3,\n",
    "                lr_value,\n",
    "                10)\n",
    "        all_scores_2[str(hn_value)+str(lr_value)] = cr"
   ]
  },
  {
   "cell_type": "code",
   "execution_count": null,
   "id": "b4db93fd-cf29-417a-8262-3e4e2ebd4844",
   "metadata": {
    "tags": []
   },
   "outputs": [],
   "source": [
    "# lastly, printing all the performance scores from the best performing network; the one with 250 nodes and lr of 0.4\n",
    "print(all_scores_2['2500.4'])"
   ]
  },
  {
   "cell_type": "code",
   "execution_count": null,
   "id": "4a229bdf-febe-46d0-9b02-8fd0f221ed4e",
   "metadata": {},
   "outputs": [],
   "source": []
  }
 ],
 "metadata": {
  "kernelspec": {
   "display_name": "Python 3",
   "language": "python",
   "name": "python3"
  },
  "language_info": {
   "codemirror_mode": {
    "name": "ipython",
    "version": 3
   },
   "file_extension": ".py",
   "mimetype": "text/x-python",
   "name": "python",
   "nbconvert_exporter": "python",
   "pygments_lexer": "ipython3",
   "version": "3.8.8"
  }
 },
 "nbformat": 4,
 "nbformat_minor": 5
}
